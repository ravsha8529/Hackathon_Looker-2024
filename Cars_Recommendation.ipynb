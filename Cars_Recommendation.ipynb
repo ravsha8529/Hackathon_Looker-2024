{
 "cells": [
  {
   "cell_type": "code",
   "execution_count": 13,
   "id": "852bcda0",
   "metadata": {},
   "outputs": [],
   "source": [
    "import pandas as pd\n",
    "from sklearn.preprocessing import MinMaxScaler\n",
    "from sklearn.metrics.pairwise import cosine_similarity\n"
   ]
  },
  {
   "cell_type": "markdown",
   "id": "61cfaf60",
   "metadata": {},
   "source": [
    "In[311]:"
   ]
  },
  {
   "cell_type": "code",
   "execution_count": 14,
   "id": "273f8675",
   "metadata": {},
   "outputs": [
    {
     "data": {
      "text/html": [
       "<div>\n",
       "<style scoped>\n",
       "    .dataframe tbody tr th:only-of-type {\n",
       "        vertical-align: middle;\n",
       "    }\n",
       "\n",
       "    .dataframe tbody tr th {\n",
       "        vertical-align: top;\n",
       "    }\n",
       "\n",
       "    .dataframe thead th {\n",
       "        text-align: right;\n",
       "    }\n",
       "</style>\n",
       "<table border=\"1\" class=\"dataframe\">\n",
       "  <thead>\n",
       "    <tr style=\"text-align: right;\">\n",
       "      <th></th>\n",
       "      <th>Date</th>\n",
       "      <th>Restaurant Name</th>\n",
       "      <th>City</th>\n",
       "      <th>Sales (K)</th>\n",
       "      <th>Inventory Cost (K)</th>\n",
       "      <th>Quantity</th>\n",
       "      <th>Average Serve Time</th>\n",
       "      <th>Number of Customers</th>\n",
       "      <th>Cuisine Type</th>\n",
       "      <th>Male</th>\n",
       "      <th>Female</th>\n",
       "      <th>Likelihood_of_Return</th>\n",
       "      <th>Avg_Serve_Time_Rating</th>\n",
       "      <th>Avg_Ambience_Rating</th>\n",
       "      <th>Avg_Taste_of_Food_Rating</th>\n",
       "      <th>Avg_Hygiene_Rating</th>\n",
       "      <th>Overall_Rating</th>\n",
       "    </tr>\n",
       "  </thead>\n",
       "  <tbody>\n",
       "    <tr>\n",
       "      <th>0</th>\n",
       "      <td>1/1/2023 13:34</td>\n",
       "      <td>The Daily Fix Nutrition</td>\n",
       "      <td>Kewanee</td>\n",
       "      <td>61.32</td>\n",
       "      <td>49.91</td>\n",
       "      <td>192</td>\n",
       "      <td>19.15</td>\n",
       "      <td>60</td>\n",
       "      <td>Healthy</td>\n",
       "      <td>40</td>\n",
       "      <td>20</td>\n",
       "      <td>3</td>\n",
       "      <td>2</td>\n",
       "      <td>2</td>\n",
       "      <td>2</td>\n",
       "      <td>3</td>\n",
       "      <td>2.4</td>\n",
       "    </tr>\n",
       "    <tr>\n",
       "      <th>1</th>\n",
       "      <td>1/2/2023 8:02</td>\n",
       "      <td>A Better Burger</td>\n",
       "      <td>Jonesville</td>\n",
       "      <td>196.77</td>\n",
       "      <td>38.65</td>\n",
       "      <td>85</td>\n",
       "      <td>11.30</td>\n",
       "      <td>50</td>\n",
       "      <td>American</td>\n",
       "      <td>30</td>\n",
       "      <td>20</td>\n",
       "      <td>5</td>\n",
       "      <td>1</td>\n",
       "      <td>4</td>\n",
       "      <td>4</td>\n",
       "      <td>4</td>\n",
       "      <td>3.6</td>\n",
       "    </tr>\n",
       "    <tr>\n",
       "      <th>2</th>\n",
       "      <td>1/3/2023 17:47</td>\n",
       "      <td>Casa Maya Grill</td>\n",
       "      <td>Deerfield Beach</td>\n",
       "      <td>163.26</td>\n",
       "      <td>46.50</td>\n",
       "      <td>410</td>\n",
       "      <td>17.31</td>\n",
       "      <td>50</td>\n",
       "      <td>Mexican</td>\n",
       "      <td>20</td>\n",
       "      <td>30</td>\n",
       "      <td>5</td>\n",
       "      <td>3</td>\n",
       "      <td>3</td>\n",
       "      <td>4</td>\n",
       "      <td>1</td>\n",
       "      <td>3.2</td>\n",
       "    </tr>\n",
       "    <tr>\n",
       "      <th>3</th>\n",
       "      <td>1/4/2023 0:36</td>\n",
       "      <td>Fitlife Nutricion</td>\n",
       "      <td>Chicago</td>\n",
       "      <td>186.74</td>\n",
       "      <td>30.11</td>\n",
       "      <td>287</td>\n",
       "      <td>16.26</td>\n",
       "      <td>50</td>\n",
       "      <td>American</td>\n",
       "      <td>30</td>\n",
       "      <td>20</td>\n",
       "      <td>4</td>\n",
       "      <td>1</td>\n",
       "      <td>3</td>\n",
       "      <td>3</td>\n",
       "      <td>4</td>\n",
       "      <td>3.0</td>\n",
       "    </tr>\n",
       "    <tr>\n",
       "      <th>4</th>\n",
       "      <td>1/5/2023 0:19</td>\n",
       "      <td>Saladworks</td>\n",
       "      <td>Bethlehem</td>\n",
       "      <td>193.35</td>\n",
       "      <td>42.20</td>\n",
       "      <td>166</td>\n",
       "      <td>19.59</td>\n",
       "      <td>90</td>\n",
       "      <td>American</td>\n",
       "      <td>50</td>\n",
       "      <td>40</td>\n",
       "      <td>2</td>\n",
       "      <td>3</td>\n",
       "      <td>3</td>\n",
       "      <td>2</td>\n",
       "      <td>1</td>\n",
       "      <td>2.2</td>\n",
       "    </tr>\n",
       "  </tbody>\n",
       "</table>\n",
       "</div>"
      ],
      "text/plain": [
       "             Date          Restaurant Name             City  Sales (K)  \\\n",
       "0  1/1/2023 13:34  The Daily Fix Nutrition          Kewanee      61.32   \n",
       "1   1/2/2023 8:02          A Better Burger       Jonesville     196.77   \n",
       "2  1/3/2023 17:47          Casa Maya Grill  Deerfield Beach     163.26   \n",
       "3   1/4/2023 0:36        Fitlife Nutricion          Chicago     186.74   \n",
       "4   1/5/2023 0:19               Saladworks        Bethlehem     193.35   \n",
       "\n",
       "   Inventory Cost (K)  Quantity  Average Serve Time  Number of Customers  \\\n",
       "0               49.91       192               19.15                   60   \n",
       "1               38.65        85               11.30                   50   \n",
       "2               46.50       410               17.31                   50   \n",
       "3               30.11       287               16.26                   50   \n",
       "4               42.20       166               19.59                   90   \n",
       "\n",
       "  Cuisine Type  Male  Female  Likelihood_of_Return  Avg_Serve_Time_Rating  \\\n",
       "0      Healthy    40      20                     3                      2   \n",
       "1     American    30      20                     5                      1   \n",
       "2      Mexican    20      30                     5                      3   \n",
       "3     American    30      20                     4                      1   \n",
       "4     American    50      40                     2                      3   \n",
       "\n",
       "   Avg_Ambience_Rating  Avg_Taste_of_Food_Rating  Avg_Hygiene_Rating  \\\n",
       "0                    2                         2                   3   \n",
       "1                    4                         4                   4   \n",
       "2                    3                         4                   1   \n",
       "3                    3                         3                   4   \n",
       "4                    3                         2                   1   \n",
       "\n",
       "   Overall_Rating  \n",
       "0             2.4  \n",
       "1             3.6  \n",
       "2             3.2  \n",
       "3             3.0  \n",
       "4             2.2  "
      ]
     },
     "execution_count": 14,
     "metadata": {},
     "output_type": "execute_result"
    }
   ],
   "source": [
    "\n",
    "# Load the dataset\n",
    "df = pd.read_csv('your_car_dataset.csv')\n",
    "\n",
    "\n",
    "\n",
    "# Load dataset\n",
    "path = r\"C:\\Users\\RaviShankar\\Downloads\\expanded_restaurant_data.csv\"  # Replace with the actual path\n",
    "df = pd.read_csv(path)\n",
    "df.head()"
   ]
  },
  {
   "cell_type": "markdown",
   "id": "cdbbf266",
   "metadata": {},
   "source": [
    "In[312]:"
   ]
  },
  {
   "cell_type": "code",
   "execution_count": 15,
   "id": "b2030b01",
   "metadata": {},
   "outputs": [
    {
     "name": "stdout",
     "output_type": "stream",
     "text": [
      "<class 'pandas.core.frame.DataFrame'>\n",
      "RangeIndex: 69 entries, 0 to 68\n",
      "Data columns (total 17 columns):\n",
      " #   Column                    Non-Null Count  Dtype  \n",
      "---  ------                    --------------  -----  \n",
      " 0   Date                      69 non-null     object \n",
      " 1   Restaurant Name           69 non-null     object \n",
      " 2   City                      69 non-null     object \n",
      " 3   Sales (K)                 69 non-null     float64\n",
      " 4   Inventory Cost (K)        69 non-null     float64\n",
      " 5   Quantity                  69 non-null     int64  \n",
      " 6   Average Serve Time        69 non-null     float64\n",
      " 7   Number of Customers       69 non-null     int64  \n",
      " 8   Cuisine Type              69 non-null     object \n",
      " 9   Male                      69 non-null     int64  \n",
      " 10  Female                    69 non-null     int64  \n",
      " 11  Likelihood_of_Return      69 non-null     int64  \n",
      " 12  Avg_Serve_Time_Rating     69 non-null     int64  \n",
      " 13  Avg_Ambience_Rating       69 non-null     int64  \n",
      " 14  Avg_Taste_of_Food_Rating  69 non-null     int64  \n",
      " 15  Avg_Hygiene_Rating        69 non-null     int64  \n",
      " 16  Overall_Rating            69 non-null     float64\n",
      "dtypes: float64(4), int64(9), object(4)\n",
      "memory usage: 9.3+ KB\n"
     ]
    }
   ],
   "source": [
    "\n",
    "\n",
    "df.info()\n",
    "\n"
   ]
  },
  {
   "cell_type": "markdown",
   "id": "59a887b0",
   "metadata": {},
   "source": [
    "**Clean Up Columns**"
   ]
  },
  {
   "cell_type": "markdown",
   "id": "393744d3",
   "metadata": {},
   "source": [
    "In[313]:"
   ]
  },
  {
   "cell_type": "markdown",
   "id": "ff599ee4",
   "metadata": {},
   "source": [
    "Check the column names"
   ]
  },
  {
   "cell_type": "code",
   "execution_count": 16,
   "id": "1d5a010b",
   "metadata": {},
   "outputs": [
    {
     "name": "stdout",
     "output_type": "stream",
     "text": [
      "Index(['Date', 'Restaurant Name', 'City', 'Sales (K)', 'Inventory Cost (K)',\n",
      "       'Quantity', 'Average Serve Time', 'Number of Customers', 'Cuisine Type',\n",
      "       'Male', 'Female', 'Likelihood_of_Return', 'Avg_Serve_Time_Rating',\n",
      "       'Avg_Ambience_Rating', 'Avg_Taste_of_Food_Rating', 'Avg_Hygiene_Rating',\n",
      "       'Overall_Rating'],\n",
      "      dtype='object')\n"
     ]
    }
   ],
   "source": [
    "print(df.columns)\n"
   ]
  },
  {
   "cell_type": "code",
   "execution_count": 17,
   "id": "efd739e1",
   "metadata": {},
   "outputs": [],
   "source": [
    "# Add an ID column if the dataset doesn't have one\n",
    "df['Car_Id'] = range(1, len(df) + 1)"
   ]
  },
  {
   "cell_type": "markdown",
   "id": "1ddba253",
   "metadata": {},
   "source": [
    "In[314]:"
   ]
  },
  {
   "cell_type": "code",
   "execution_count": 18,
   "id": "e753ccef",
   "metadata": {},
   "outputs": [],
   "source": [
    "# Features to consider for recommendation\n",
    "features = ['Age of Car', 'Distance', 'Owner', 'Ratings', 'Safety Rating']\n"
   ]
  },
  {
   "cell_type": "code",
   "execution_count": 19,
   "id": "9025070c",
   "metadata": {},
   "outputs": [],
   "source": [
    "# Normalize the data\n",
    "scaler = MinMaxScaler()\n",
    "df_scaled = df.copy()\n",
    "df_scaled[features] = scaler.fit_transform(df[features])\n"
   ]
  },
  {
   "cell_type": "code",
   "execution_count": 20,
   "id": "271ba6a8",
   "metadata": {},
   "outputs": [],
   "source": [
    "# Invert the \"lower is better\" features\n",
    "for col in ['Age of Car', 'Distance', 'Owner']:\n",
    "    df_scaled[col] = 1 - df_scaled[col]\n"
   ]
  },
  {
   "cell_type": "code",
   "execution_count": 21,
   "id": "5f1ee930",
   "metadata": {},
   "outputs": [],
   "source": [
    "# Calculate similarity using cosine similarity\n",
    "similarity_matrix = cosine_similarity(df_scaled[features])\n"
   ]
  },
  {
   "cell_type": "code",
   "execution_count": 22,
   "id": "08445b3a",
   "metadata": {},
   "outputs": [],
   "source": [
    "# Convert similarity matrix to DataFrame\n",
    "similarity_df = pd.DataFrame(similarity_matrix, index=df['Car_Name'], columns=df['Car_Name'])\n"
   ]
  },
  {
   "cell_type": "code",
   "execution_count": 23,
   "id": "c3ff1a2e",
   "metadata": {},
   "outputs": [],
   "source": [
    "# Create the car similarity data\n",
    "car_similarity_data = []"
   ]
  },
  {
   "cell_type": "code",
   "execution_count": 24,
   "id": "362e5e53",
   "metadata": {},
   "outputs": [],
   "source": [
    "# Iterate through each car and its similarity scores\n",
    "for car_name in df['Car_Name']:\n",
    "    # Get the index of the car\n",
    "    idx = df.index[df['Car_Name'] == car_name].tolist()[0]\n",
    "    car_id = df.loc[idx, 'Car_Id']\n",
    "    "
   ]
  },
  {
   "cell_type": "code",
   "execution_count": 25,
   "id": "162ac0b1",
   "metadata": {},
   "outputs": [
    {
     "name": "stdout",
     "output_type": "stream",
     "text": [
      "Restaurants_similarity.csv has been generated!\n"
     ]
    }
   ],
   "source": [
    "    # Get similarity scores of all cars with the current car\n",
    "sim_scores = list(enumerate(similarity_matrix[idx]))\n"
   ]
  },
  {
   "cell_type": "markdown",
   "id": "f09ba9e3",
   "metadata": {},
   "source": [
    "In[316]:"
   ]
  },
  {
   "cell_type": "code",
   "execution_count": 26,
   "id": "9f715368",
   "metadata": {},
   "outputs": [],
   "source": [
    "   # Sort cars based on similarity scores\n",
    "    sim_scores = sorted(sim_scores, key=lambda x: x[1], reverse=True)\n",
    "    "
   ]
  },
  {
   "cell_type": "markdown",
   "id": "c9659a57",
   "metadata": {},
   "source": [
    "Extract only numeric values from 'Runtime'"
   ]
  },
  {
   "cell_type": "code",
   "execution_count": 27,
   "id": "a00e728d",
   "metadata": {},
   "outputs": [],
   "source": [
    "    # Extract the car names, IDs, and similarity scores (skip the first one since it's the car itself)\n",
    "    for i, score in sim_scores[1:11]:\n",
    "        similar_car_name = df.iloc[i]['Car_Name']\n",
    "        similar_car_id = df.iloc[i]['Car_Id']\n",
    "        car_similarity_data.append((car_name, car_id, similar_car_name, similar_car_id, score))\n"
   ]
  },
  {
   "cell_type": "markdown",
   "id": "4d56b7b7",
   "metadata": {},
   "source": [
    "In[317]:"
   ]
  },
  {
   "cell_type": "code",
   "execution_count": 28,
   "id": "34142d32",
   "metadata": {},
   "outputs": [
    {
     "name": "stdout",
     "output_type": "stream",
     "text": [
      "        Restaurant Name Cuisine Type  Likelihood_of_Return  \\\n",
      "44  Coastal Breeze Cafe     American                  0.00   \n",
      "67      Bluebonnet Cafe        Latin                  0.00   \n",
      "29        Casa De Sazon        Latin                  1.00   \n",
      "66       Mesquite Table        Latin                  0.25   \n",
      "49    Cuban Spice Grill        Latin                  0.25   \n",
      "\n",
      "    Avg_Serve_Time_Rating  Avg_Ambience_Rating  Avg_Taste_of_Food_Rating  \\\n",
      "44                   1.00                 0.25                      0.00   \n",
      "67                   0.25                 0.75                      0.50   \n",
      "29                   0.50                 0.00                      0.75   \n",
      "66                   0.00                 0.50                      0.00   \n",
      "49                   0.00                 0.50                      0.50   \n",
      "\n",
      "    Avg_Hygiene_Rating  Overall_Rating  Similarity Score  \n",
      "44                0.75        0.333333          0.301932  \n",
      "67                0.00        0.200000          0.175539  \n",
      "29                0.75        0.600000          0.165533  \n",
      "66                0.75        0.200000          0.160832  \n",
      "49                0.00        0.133333          0.151088  \n"
     ]
    }
   ],
   "source": [
    "# Create a DataFrame for car similarities\n",
    "car_similarity_df = pd.DataFrame(\n",
    "    car_similarity_data, \n",
    "    columns=[\"Car_Name\", \"Car_Id\", \"Similar_Car\", \"Similar_Car_Id\", \"Cosine_Similarity\"]\n",
    ")"
   ]
  },
  {
   "cell_type": "code",
   "execution_count": null,
   "id": "095c1dd7",
   "metadata": {},
   "outputs": [],
   "source": [
    "# Save the similarity data to a CSV file\n",
    "car_similarity_df.to_csv('car_similarity.csv', index=False)\n"
   ]
  }
 ],
 "metadata": {
  "kernelspec": {
   "display_name": "base",
   "language": "python",
   "name": "python3"
  },
  "language_info": {
   "codemirror_mode": {
    "name": "ipython",
    "version": 3
   },
   "file_extension": ".py",
   "mimetype": "text/x-python",
   "name": "python",
   "nbconvert_exporter": "python",
   "pygments_lexer": "ipython3",
   "version": "3.11.5"
  }
 },
 "nbformat": 4,
 "nbformat_minor": 5
}
